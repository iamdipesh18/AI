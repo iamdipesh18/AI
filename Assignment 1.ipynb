{
 "cells": [
  {
   "cell_type": "markdown",
   "metadata": {},
   "source": [
    "# AI ASSIGNMENT 1 (PYTHON)"
   ]
  },
  {
   "cell_type": "markdown",
   "metadata": {},
   "source": [
    "Write a program to find prime number with in a range using function."
   ]
  },
  {
   "cell_type": "code",
   "execution_count": 1,
   "metadata": {},
   "outputs": [
    {
     "name": "stdout",
     "output_type": "stream",
     "text": [
      "The Prime Numbers in Given Range :\n",
      "2\t3\t5\t7\t"
     ]
    }
   ],
   "source": [
    "def is_prime(num):\n",
    "    count = 0\n",
    "    for i in range(1, num + 1):\n",
    "        if num % i == 0:\n",
    "            count += 1\n",
    "    return count\n",
    "\n",
    "LR = int(input(\"Enter lower range: \"))\n",
    "UR = int(input(\"Enter upper range: \"))\n",
    "\n",
    "print(\"The Prime Numbers in Given Range :\")\n",
    "for i in range(LR, UR + 1):\n",
    "    count = is_prime(i)\n",
    "    if count == 2:\n",
    "        print(i, end=\"\\t\")"
   ]
  },
  {
   "cell_type": "markdown",
   "metadata": {},
   "source": [
    "Write a program to check palindrome."
   ]
  },
  {
   "cell_type": "code",
   "execution_count": 3,
   "metadata": {},
   "outputs": [
    {
     "name": "stdout",
     "output_type": "stream",
     "text": [
      "Entered Number is Palindrome\n"
     ]
    }
   ],
   "source": [
    "Num = int(input(\"Enter Any Number: \"))\n",
    "Fo = Num\n",
    "Rev = 0\n",
    "\n",
    "while Num != 0:\n",
    "    Rem = Num % 10\n",
    "    Rev = Rev * 10 + Rem\n",
    "    Num = Num // 10\n",
    "\n",
    "if Fo == Rev:\n",
    "    print(\"Entered Number is Palindrome\")\n",
    "else:\n",
    "    print(\"Entered Number is Not Palindrome\")"
   ]
  },
  {
   "cell_type": "markdown",
   "metadata": {},
   "source": [
    "Write a program to generate the Fibonacci sequence of a given number."
   ]
  },
  {
   "cell_type": "code",
   "execution_count": 4,
   "metadata": {},
   "outputs": [
    {
     "name": "stdout",
     "output_type": "stream",
     "text": [
      "Fibonacci Series =\n",
      "0\n",
      "1\n",
      "1\n"
     ]
    }
   ],
   "source": [
    "\n",
    "Number=input(\"Enter the Desired Number of Fibonacci terms  : \")\n",
    "Num=int(Number)\n",
    "\n",
    "ft=0;\n",
    "st=1;\n",
    "nt=0;\n",
    "\n",
    "print(\"Fibonacci Series =\")\n",
    "print(ft)\n",
    "print(st)\n",
    "\n",
    "for i in range(1, Num - 1):\n",
    "    nt = ft + st\n",
    "    print(nt)\n",
    "    ft=st\n",
    "    st=nt"
   ]
  },
  {
   "cell_type": "markdown",
   "metadata": {},
   "source": [
    "Create a number guessing game. Where you have to generate a random number in between 1 to 100 and user have to prompt a number for guess. if its high or low number let the user know and guide them through the process to guess correct number."
   ]
  },
  {
   "cell_type": "code",
   "execution_count": 5,
   "metadata": {},
   "outputs": [
    {
     "name": "stdout",
     "output_type": "stream",
     "text": [
      "WELCOME TO GUESSING GAME\n",
      "........................\n",
      "Enter Higher Number\n",
      "Enter Higher Number\n",
      "Enter Lower Number\n",
      "Enter Lower Number\n",
      "Enter Lower Number\n",
      "Enter Higher Number\n",
      "CONGRATULATIONS!!!\n",
      "..................\n",
      "You Have Guessed the correct Number\n",
      "The Number is 7\n"
     ]
    }
   ],
   "source": [
    "import random\n",
    "G = random.randint(1, 100)\n",
    "print(\"WELCOME TO GUESSING GAME\")\n",
    "print(\"........................\")\n",
    "\n",
    "while True:\n",
    "    N = int(input(\"Guess The Number Between 1 to 100: \"))\n",
    "    \n",
    "    if N < G:\n",
    "        print(\"Enter Higher Number\")\n",
    "    elif N > G:\n",
    "        print(\"Enter Lower Number\")\n",
    "    else:\n",
    "        print(\"CONGRATULATIONS!!!\")\n",
    "        print(\"..................\")\n",
    "        print(f\"You Have Guessed the correct Number\\nThe Number is {G}\")\n",
    "        break"
   ]
  }
 ],
 "metadata": {
  "kernelspec": {
   "display_name": "Python 3",
   "language": "python",
   "name": "python3"
  },
  "language_info": {
   "codemirror_mode": {
    "name": "ipython",
    "version": 3
   },
   "file_extension": ".py",
   "mimetype": "text/x-python",
   "name": "python",
   "nbconvert_exporter": "python",
   "pygments_lexer": "ipython3",
   "version": "3.12.1"
  }
 },
 "nbformat": 4,
 "nbformat_minor": 2
}
